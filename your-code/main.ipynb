{
 "cells": [
  {
   "cell_type": "markdown",
   "metadata": {},
   "source": [
    "# Probability\n",
    "## Challenge 1\n",
    "\n",
    "A and B are events of a probability such that $P(A) = 0.3$, $P(B) = 0.6$ and $P(A \\cap B) = 0.1$\n",
    "\n",
    "Which of the following statements are true?  \n",
    "**HINT: draw a big Venn Diagram by your side**  \n",
    "* $P(\\overline{A}) = 0.7$\n",
    "* $P(A \\cup B) = 0.6$\n",
    "* $P(A \\cap \\overline{B}) = 0.2$\n",
    "* $P(A \\cup \\overline{A}) = 1$  \n",
    "* $P(A \\cap (B \\cup \\overline{B})) = 0.4$\n",
    "* $P(\\overline{A} \\cap \\overline{B}) = 0.3$\n",
    "* $P(\\overline{A \\cap B}) = 0.9$"
   ]
  },
  {
   "cell_type": "markdown",
   "metadata": {},
   "source": [
    "\n",
    "Solutions:\n",
    "\n",
    "* $P(\\overline{A}) = 0.7$ --> True. 1 - 0.3 = 0.7\n",
    "* $P(A \\cup B) = 0.6$ --> False. 0.3 + 0.6 - 0.1 = 0.8\n",
    "* $P(A \\cap \\overline{B}) = 0.2$--> True. 0.3 - 0.1 = 0.2\n",
    "* $P(A \\cup \\overline{A}) = 1$ --> True. 0.3 + 0.7 = 1\n",
    "* $P(A \\cap (B \\cup \\overline{B})) = 0.4$ --> False. 0.3\n",
    "* $P(\\overline{A} \\cap \\overline{B}) = 0.3$ -->False. 1 - 0.8 = 0.2\n",
    "* $P(\\overline{A \\cap B}) = 0.9$ --> True. 1 - 0.1 = 0.9\n",
    "\n"
   ]
  },
  {
   "cell_type": "markdown",
   "metadata": {},
   "source": [
    "## Challenge 2\n",
    "There is a box with 10 white balls, 12 red balls and 8 black balls. Calculate the probability of:\n",
    "* Taking a white ball out.\n",
    "* Taking a white ball on first extraction and a black ball out on second extraction without replacing the first one.\n",
    "* Taking a white ball on first extraction and a black ball out on second extraction replacing the first one.\n",
    "* Taking 3 balls and them being all different colours."
   ]
  },
  {
   "cell_type": "code",
   "execution_count": 88,
   "metadata": {},
   "outputs": [
    {
     "name": "stdout",
     "output_type": "stream",
     "text": [
      "La probabilidad de sacar una bola blanca es: 33.33333333333333 %\n",
      "La probabilidad de sacar una bola blanca a la primera y una negra a la segunda sin reemplazar la primera es: 9.195402298850574 %\n",
      "La probabiilidad de sacar una bola blanca a la primera y sacar una negra a la segunda, reemplazando la primera es: 8.888888888888888 %\n",
      "La probabilidad de sacar tres bolas y que todas sean de diferentes colores es: 23.645320197044335 %\n"
     ]
    }
   ],
   "source": [
    "white = 10\n",
    "red = 12\n",
    "black = 8\n",
    "total = 30\n",
    "\n",
    "\n",
    "# Taking a white ball out: \n",
    "prob1= 10/30\n",
    "print(f\"La probabilidad de sacar una bola blanca es:\", (prob1 * 100),\"%\")\n",
    "\n",
    "#Taking a white ball on first extraction and a black ball out on second extraction without replacing the first one:\n",
    "#P(W)+P(B) = 10/30 * 8/29\n",
    "prob2= 10/30 * 8/29\n",
    "print(f\"La probabilidad de sacar una bola blanca a la primera y una negra a la segunda sin reemplazar la primera es:\", (prob2 * 100), \"%\")\n",
    "\n",
    "#Taking a white ball on first extraction and a black ball out on second extraction replacing the first one.\n",
    "#P(W)+P(B) = 10/30 * 8/30\n",
    "prob3 = 10/30 * 8/30\n",
    "print(f\"La probabiilidad de sacar una bola blanca a la primera y sacar una negra a la segunda, reemplazando la primera es:\",(prob3 * 100), \"%\")\n",
    "\n",
    "#Taking 3 balls and them being all different colours.\n",
    "#Opciones: WRB, WBR, RWB,RBW, BWR,BRW. \n",
    "#P(3B) = 6 *(10/30 * 12/29 * 8/28)\n",
    "prob4 = 6 *(10/30 * 12/29 * 8/28)\n",
    "print(f\"La probabilidad de sacar tres bolas y que todas sean de diferentes colores es:\", (prob4 * 100), \"%\")\n"
   ]
  },
  {
   "cell_type": "markdown",
   "metadata": {},
   "source": [
    "## Challenge 3\n",
    "\n",
    "You are planning to go on a picnic today but the morning is cloudy. You hate rain so you don't know whether to go out or stay home! To help you make a decision, you gather the following data about rainy days:\n",
    "\n",
    "* 50% of all rainy days start off cloudy!\n",
    "* Cloudy mornings are common. About 40% of days start cloudy. \n",
    "* This month is usually dry so only 3 of 30 days (10%) tend to be rainy. \n",
    "\n",
    "What is the chance of rain during the day?"
   ]
  },
  {
   "cell_type": "markdown",
   "metadata": {},
   "source": [
    "\n",
    "P(C|R) = 0.5\n",
    "\n",
    "P(C) = 0.4\n",
    "\n",
    "P(R) = 0.1\n",
    "\n",
    "P(R|C) ??\n",
    "\n",
    "\n",
    "P(R|C) = P(R ∩ C) / P (C) = P(C|R) * P(R) / P(C)\n"
   ]
  },
  {
   "cell_type": "code",
   "execution_count": 49,
   "metadata": {},
   "outputs": [
    {
     "name": "stdout",
     "output_type": "stream",
     "text": [
      "0.125\n",
      "la probabilidad es de un 12.5 %\n"
     ]
    }
   ],
   "source": [
    "p = 0.5 * 0.1 / 0.4\n",
    "print(p)\n",
    "print(f\"la probabilidad es de un\",  p * 100, \"%\")"
   ]
  },
  {
   "cell_type": "markdown",
   "metadata": {},
   "source": [
    "## Challenge 4\n",
    "\n",
    " * If someone flies to China, the probability of getting Covid is 1%  \n",
    " * If someone flies to Italy, the probability of getting Covid is 20%  \n",
    "\n",
    "I roll 1 dice with numbers 1, 2, 3, 4, 5, 6:  \n",
    " * If 1: I fly to Italy\n",
    " * If not 1: I fly to China\n",
    "\n",
    "During my trip, I got Covid. What is the probability that I flew to China?"
   ]
  },
  {
   "cell_type": "markdown",
   "metadata": {},
   "source": [
    "\n",
    "ChinaCovid = 0.01\n",
    "ChinaNoCovid = 0.99\n",
    "\n",
    "ItaliaCovid = 0.2\n",
    "ItaliaNoCovid = 0.8\n",
    "\n",
    "VolarItalia = 1/6 = 0.16\n",
    "VolarChina = 5/6 = 0.83\n",
    "\n",
    "P(VolarChina|ChinaCovid) = (0.01 * 0.83) / (0.83 * 0.01) + (0.16 * 0,2) \n"
   ]
  },
  {
   "cell_type": "code",
   "execution_count": 72,
   "metadata": {},
   "outputs": [
    {
     "data": {
      "text/plain": [
       "0.20595533498759305"
      ]
     },
     "execution_count": 72,
     "metadata": {},
     "output_type": "execute_result"
    }
   ],
   "source": [
    "prob_china_covid = (0.01 * 0.83) / ((0.83 * 0.01) + (0.16 * 0.2)) \n",
    "prob_china_covid"
   ]
  },
  {
   "cell_type": "code",
   "execution_count": 46,
   "metadata": {},
   "outputs": [
    {
     "name": "stdout",
     "output_type": "stream",
     "text": [
      "la probabilidad es de un 21 %\n"
     ]
    }
   ],
   "source": [
    "print(f\"la probabilidad es de un\",  round(prob_china_covid * 100), \"%\")"
   ]
  },
  {
   "cell_type": "markdown",
   "metadata": {},
   "source": [
    "## BONUS\n",
    "\n",
    "You roll 2 dice. What is the probability that the sum of the numbers is 7? And 8? And 9? Then simulate 10000 times and draw a histogram."
   ]
  },
  {
   "cell_type": "markdown",
   "metadata": {},
   "source": [
    "your explanation here"
   ]
  },
  {
   "cell_type": "code",
   "execution_count": null,
   "metadata": {},
   "outputs": [],
   "source": [
    "# your code here"
   ]
  },
  {
   "cell_type": "code",
   "execution_count": 15,
   "metadata": {},
   "outputs": [],
   "source": [
    "import random\n",
    "import numpy as np\n",
    "import matplotlib.pyplot as plt"
   ]
  },
  {
   "cell_type": "markdown",
   "metadata": {},
   "source": [
    "$\\Omega=\\{1, 2, 3, 4, 5, 6\\}$\n",
    "\n"
   ]
  },
  {
   "cell_type": "code",
   "execution_count": 6,
   "metadata": {},
   "outputs": [],
   "source": [
    "sample_space = [1, 2, 3, 4, 5, 6]"
   ]
  },
  {
   "cell_type": "code",
   "execution_count": 17,
   "metadata": {},
   "outputs": [],
   "source": [
    "roll1 = random.choices(sample_space, k=10000) # primer dado\n",
    "roll2 = random.choices(sample_space, k=10000) # segundo dado\n",
    "rolls = list(np.add(roll1,roll2)) # la suma de los dos dados"
   ]
  },
  {
   "cell_type": "code",
   "execution_count": 73,
   "metadata": {},
   "outputs": [
    {
     "data": {
      "text/plain": [
       "[9, 10, 10, 8, 7, 7, 7, 12, 10, 7]"
      ]
     },
     "execution_count": 73,
     "metadata": {},
     "output_type": "execute_result"
    }
   ],
   "source": [
    "rolls[:10]"
   ]
  },
  {
   "cell_type": "code",
   "execution_count": 74,
   "metadata": {},
   "outputs": [
    {
     "data": {
      "text/plain": [
       "0.1684"
      ]
     },
     "execution_count": 74,
     "metadata": {},
     "output_type": "execute_result"
    }
   ],
   "source": [
    "#7\n",
    "frequency_7 = rolls.count(7) / len(rolls)\n",
    "frequency_7"
   ]
  },
  {
   "cell_type": "code",
   "execution_count": 75,
   "metadata": {},
   "outputs": [
    {
     "data": {
      "text/plain": [
       "0.16666666666666666"
      ]
     },
     "execution_count": 75,
     "metadata": {},
     "output_type": "execute_result"
    }
   ],
   "source": [
    "\"\"\" 6 * (1/6 * 1/6) = 6 * (1/36) = 6/36 = 1/6 \"\"\"\n",
    "1/6"
   ]
  },
  {
   "cell_type": "code",
   "execution_count": 76,
   "metadata": {},
   "outputs": [
    {
     "data": {
      "text/plain": [
       "0.137"
      ]
     },
     "execution_count": 76,
     "metadata": {},
     "output_type": "execute_result"
    }
   ],
   "source": [
    "#8\n",
    "frequency_8 = rolls.count(8) / len(rolls)\n",
    "frequency_8"
   ]
  },
  {
   "cell_type": "code",
   "execution_count": 77,
   "metadata": {},
   "outputs": [
    {
     "data": {
      "text/plain": [
       "0.1388888888888889"
      ]
     },
     "execution_count": 77,
     "metadata": {},
     "output_type": "execute_result"
    }
   ],
   "source": [
    "\"\"\" 5 * (1/6 * 1/6) = 5 * (1/36) = 5/36 \"\"\"\n",
    "5/36"
   ]
  },
  {
   "cell_type": "code",
   "execution_count": 78,
   "metadata": {},
   "outputs": [
    {
     "data": {
      "text/plain": [
       "0.1054"
      ]
     },
     "execution_count": 78,
     "metadata": {},
     "output_type": "execute_result"
    }
   ],
   "source": [
    "#9\n",
    "frequency_9 = rolls.count(9) / len(rolls)\n",
    "frequency_9"
   ]
  },
  {
   "cell_type": "code",
   "execution_count": 79,
   "metadata": {},
   "outputs": [
    {
     "data": {
      "text/plain": [
       "0.1111111111111111"
      ]
     },
     "execution_count": 79,
     "metadata": {},
     "output_type": "execute_result"
    }
   ],
   "source": [
    "\"\"\" 4 * (1/6 * 1/6) = 4 * (1/36) = 4/36 = 1/9 \"\"\"\n",
    "1/9"
   ]
  },
  {
   "cell_type": "code",
   "execution_count": 80,
   "metadata": {},
   "outputs": [
    {
     "data": {
      "text/plain": [
       "(array([ 271.,  555.,  849., 1141., 1380., 1684., 1370., 1054.,  884.,\n",
       "         562.,  250.]),\n",
       " array([ 2,  3,  4,  5,  6,  7,  8,  9, 10, 11, 12, 13]),\n",
       " <BarContainer object of 11 artists>)"
      ]
     },
     "execution_count": 80,
     "metadata": {},
     "output_type": "execute_result"
    },
    {
     "data": {
      "image/png": "[encoded data removed]",
      "text/plain": [
       "<Figure size 432x288 with 1 Axes>"
      ]
     },
     "metadata": {
      "needs_background": "light"
     },
     "output_type": "display_data"
    }
   ],
   "source": [
    "plt.hist(rolls, bins=list(range(2,14)))"
   ]
  },
  {
   "cell_type": "code",
   "execution_count": 81,
   "metadata": {},
   "outputs": [
    {
     "data": {
      "text/plain": [
       "[2, 3, 4, 5, 6, 7, 8, 9, 10, 11, 12, 13]"
      ]
     },
     "execution_count": 81,
     "metadata": {},
     "output_type": "execute_result"
    }
   ],
   "source": [
    "list(range(2,14))"
   ]
  },
  {
   "cell_type": "code",
   "execution_count": 82,
   "metadata": {},
   "outputs": [
    {
     "data": {
      "text/plain": [
       "[2, 3, 4, 5, 6, 7, 8, 9, 10, 11, 12]"
      ]
     },
     "execution_count": 82,
     "metadata": {},
     "output_type": "execute_result"
    }
   ],
   "source": [
    "list(range(2,13))"
   ]
  }
 ],
 "metadata": {
  "kernelspec": {
   "display_name": "Python 3",
   "language": "python",
   "name": "python3"
  },
  "toc": {
   "base_numbering": 1,
   "nav_menu": {},
   "number_sections": false,
   "sideBar": true,
   "skip_h1_title": false,
   "title_cell": "Table of Contents",
   "title_sidebar": "Contents",
   "toc_cell": false,
   "toc_position": {
    "height": "calc(100% - 180px)",
    "left": "10px",
    "top": "150px",
    "width": "296.475px"
   },
   "toc_section_display": true,
   "toc_window_display": false
  },
  "varInspector": {
   "cols": {
    "lenName": 16,
    "lenType": 16,
    "lenVar": 40
   },
   "kernels_config": {
    "python": {
     "delete_cmd_postfix": "",
     "delete_cmd_prefix": "del ",
     "library": "var_list.py",
     "varRefreshCmd": "print(var_dic_list())"
    },
    "r": {
     "delete_cmd_postfix": ") ",
     "delete_cmd_prefix": "rm(",
     "library": "var_list.r",
     "varRefreshCmd": "cat(var_dic_list()) "
    }
   },
   "types_to_exclude": [
    "module",
    "function",
    "builtin_function_or_method",
    "instance",
    "_Feature"
   ],
   "window_display": false
  }
 },
 "nbformat": 4,
 "nbformat_minor": 2
}
