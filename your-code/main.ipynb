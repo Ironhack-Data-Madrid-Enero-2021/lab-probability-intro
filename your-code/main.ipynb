{
 "cells": [
  {
   "cell_type": "markdown",
   "metadata": {},
   "source": [
    "# Probability\n",
    "## Challenge 1\n",
    "\n",
    "A and B are events of a probability such that $P(A) = 0.3$, $P(B) = 0.6$ and $P(A \\cap B) = 0.1$\n",
    "\n",
    "Which of the following statements are true?  \n",
    "**HINT: draw a big Venn Diagram by your side**  \n",
    "* $P(\\overline{A}) = 0.7$\n",
    "* $P(A \\cup B) = 0.6$\n",
    "* $P(A \\cap \\overline{B}) = 0.2$\n",
    "* $P(A \\cup \\overline{A}) = 1$  \n",
    "* $P(A \\cap (B \\cup \\overline{B})) = 0.4$\n",
    "* $P(\\overline{A} \\cap \\overline{B}) = 0.3$\n",
    "* $P(\\overline{A \\cap B}) = 0.9$"
   ]
  },
  {
   "cell_type": "code",
   "execution_count": null,
   "metadata": {},
   "outputs": [],
   "source": [
    "import matplotlib.pyplot as plt\n",
    "import random\n",
    "import numpy as np"
   ]
  },
  {
   "cell_type": "code",
   "execution_count": null,
   "metadata": {},
   "outputs": [],
   "source": [
    "#from matplotlib_venn import venn2"
   ]
  },
  {
   "cell_type": "markdown",
   "metadata": {},
   "source": [
    "* $P(\\overline{A}) = 0.7$  True , es la probabilidad de que no suceda A\n",
    "* $P(A \\cup B) = 0.6$ False, 0.3 + 0.6 - 0,1 = 0.8 \n",
    "* $P(A \\cap \\overline{B}) = 0.2$ True , P(A) - $P(A \\cap \\ B )$ = 0.3 - 0.1 = 0.2\n",
    "* $P(A \\cup \\overline{A}) = 1$  True, 0.3 + 0.7 = 1\n",
    "* $P(A \\cap (B \\cup \\overline{B})) = 0.4$ False ,0.3 ($(B \\cup \\overline{B})$ = 1, lo que intersecta es la P de A)\n",
    "* $P(\\overline{A} \\cap \\overline{B}) = 0.3$ False, 1 - 0,3 - 0,6 + 0.1 = 0.2\n",
    "* $P(\\overline{A \\cap B}) = 0.9$ True, 1 - 0.1 = 0.9, es lo contrario de intersección completa."
   ]
  },
  {
   "cell_type": "markdown",
   "metadata": {},
   "source": [
    "## Challenge 2\n",
    "There is a box with 10 white balls, 12 red balls and 8 black balls. Calculate the probability of:\n",
    "* Taking a white ball out.\n",
    "* Taking a white ball on first extraction and a black ball out on second extraction without replacing the first one.\n",
    "* Taking a white ball on first extraction and a black ball out on second extraction replacing the first one.\n",
    "* Taking 3 balls and them being all different colours."
   ]
  },
  {
   "cell_type": "markdown",
   "metadata": {},
   "source": [
    "1) 10/30 = 0.33\n",
    "2) (10/30) * (8/29) = 0.0919\n",
    "3) (10/30) * (8/30) = 0.0888\n",
    "4) 6 * (10/30) * (12/29) * (8/28) = 0.2364"
   ]
  },
  {
   "cell_type": "markdown",
   "metadata": {},
   "source": [
    "## Challenge 3\n",
    "\n",
    "You are planning to go on a picnic today but the morning is cloudy. You hate rain so you don't know whether to go out or stay home! To help you make a decision, you gather the following data about rainy days:\n",
    "\n",
    "* 50% of all rainy days start off cloudy!\n",
    "* Cloudy mornings are common. About 40% of days start cloudy. \n",
    "* This month is usually dry so only 3 of 30 days (10%) tend to be rainy. \n",
    "\n",
    "What is the chance of rain during the day?"
   ]
  },
  {
   "cell_type": "markdown",
   "metadata": {},
   "source": [
    "\n",
    " (0.5 * 0.1) / 0.4 = ***0.125***\n",
    "(P de lluvia * P de que llueva) / P de empezar el día nublado."
   ]
  },
  {
   "cell_type": "markdown",
   "metadata": {},
   "source": [
    "## Challenge 4\n",
    "\n",
    " * If someone flies to China, the probability of getting Covid is 1%  \n",
    " * If someone flies to Italy, the probability of getting Covid is 20%  \n",
    "\n",
    "I roll 1 dice with numbers 1, 2, 3, 4, 5, 6:  \n",
    " * If 1: I fly to Italy\n",
    " * If not 1: I fly to China\n",
    "\n",
    "During my trip, I got Covid. What is the probability that I flew to China?"
   ]
  },
  {
   "cell_type": "code",
   "execution_count": null,
   "metadata": {},
   "outputs": [],
   "source": [
    "# your code here"
   ]
  },
  {
   "cell_type": "markdown",
   "metadata": {},
   "source": [
    "P(V_China|China_CVD) = (0.01 * 0.83) / (0.83 * 0.01) + (0.16 * 0,2) = ***0.2***\n",
    "\n",
    "***Respuesta*** = (probabilidad de ir a china e infectarse) / (P de ir a china e infectarse) * (P ir Italia e infectarse)\n",
    "\n"
   ]
  },
  {
   "cell_type": "markdown",
   "metadata": {},
   "source": [
    "## BONUS\n",
    "\n",
    "You roll 2 dice. What is the probability that the sum of the numbers is 7? And 8? And 9? Then simulate 10000 times and draw a histogram."
   ]
  },
  {
   "cell_type": "markdown",
   "metadata": {},
   "source": [
    "your explanation here"
   ]
  },
  {
   "cell_type": "markdown",
   "metadata": {},
   "source": [
    "Para obtener un 7 tenemos 6 combinaciones posibles:\n",
    "(2+5)(5+2)(3+4)(4+3)(6+1)(1+6)\n",
    "6 *(1/6)*(1*6) = ***1/6***\n",
    "\n",
    "Para obtener un 8 tenemos 6 combinaciones posibles:\n",
    "(2+6)(4+4)(6+2)(5+3)(3+5)\n",
    "5 *(1/6)*(1*6) = ***5/36***\n",
    "\n",
    "Para obtener un 9 tenemos 6 combinaciones posibles:\n",
    "(3+6)(4+5)(5+4)(6+3)\n",
    "4*(1/6)*(1*6) = ***1/9***\n"
   ]
  },
  {
   "cell_type": "code",
   "execution_count": 21,
   "metadata": {},
   "outputs": [
    {
     "data": {
      "text/plain": [
       "(0.0, 0.03, 0.051, 0.121, 0.111, 0.152)"
      ]
     },
     "execution_count": 21,
     "metadata": {},
     "output_type": "execute_result"
    },
    {
     "data": {
      "image/png": "[encoded data removed]",
      "text/plain": [
       "<Figure size 432x288 with 1 Axes>"
      ]
     },
     "metadata": {
      "needs_background": "light"
     },
     "output_type": "display_data"
    }
   ],
   "source": [
    "\n",
    "# run experiment 100 times because it takes a long time to load \n",
    "sample_space = [1, 2, 3, 4, 5, 6]\n",
    "result = [] \n",
    "games = 100\n",
    "for i in range(1,games):\n",
    "    rolls = random.choices(sample_space, k=2)\n",
    "    sum_dds = sum(rolls)\n",
    "    result.append(sum_dds)\n",
    "    #print(result)\n",
    "    plt.xlabel(sum_dds)\n",
    "    plt.hist(x=result,bins= 11,color=\"Blue\",edgecolor=\"black\")\n",
    "count_rolls(result)"
   ]
  },
  {
   "cell_type": "code",
   "execution_count": 19,
   "metadata": {},
   "outputs": [],
   "source": [
    "def count_rolls(rolls):\n",
    "    v1 = round(rolls.count(1) / len(rolls),3)\n",
    "    v2 = round(rolls.count(2) / len(rolls),3)\n",
    "    v3 = round(rolls.count(3) / len(rolls),3)\n",
    "    v4 = round(rolls.count(4) / len(rolls),3)\n",
    "    v5 = round(rolls.count(5) / len(rolls),3)\n",
    "    v6 = round(rolls.count(6) / len(rolls),3)\n",
    "    return v1,v2,v3,v4,v5,v6"
   ]
  },
  {
   "cell_type": "code",
   "execution_count": null,
   "metadata": {},
   "outputs": [],
   "source": []
  }
 ],
 "metadata": {
  "kernelspec": {
   "display_name": "Python 3",
   "language": "python",
   "name": "python3"
  },
  "toc": {
   "base_numbering": 1,
   "nav_menu": {},
   "number_sections": false,
   "sideBar": true,
   "skip_h1_title": false,
   "title_cell": "Table of Contents",
   "title_sidebar": "Contents",
   "toc_cell": false,
   "toc_position": {
    "height": "calc(100% - 180px)",
    "left": "10px",
    "top": "150px",
    "width": "296.475px"
   },
   "toc_section_display": true,
   "toc_window_display": false
  },
  "varInspector": {
   "cols": {
    "lenName": 16,
    "lenType": 16,
    "lenVar": 40
   },
   "kernels_config": {
    "python": {
     "delete_cmd_postfix": "",
     "delete_cmd_prefix": "del ",
     "library": "var_list.py",
     "varRefreshCmd": "print(var_dic_list())"
    },
    "r": {
     "delete_cmd_postfix": ") ",
     "delete_cmd_prefix": "rm(",
     "library": "var_list.r",
     "varRefreshCmd": "cat(var_dic_list()) "
    }
   },
   "types_to_exclude": [
    "module",
    "function",
    "builtin_function_or_method",
    "instance",
    "_Feature"
   ],
   "window_display": false
  }
 },
 "nbformat": 4,
 "nbformat_minor": 2
}
