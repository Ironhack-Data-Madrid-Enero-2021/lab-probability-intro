{
 "cells": [
  {
   "cell_type": "markdown",
   "metadata": {},
   "source": [
    "# Probability\n",
    "## Challenge 1\n",
    "\n",
    "A and B are events of a probability such that $P(A) = 0.3$, $P(B) = 0.6$ and $P(A \\cap B) = 0.1$\n",
    "\n",
    "Which of the following statements are true?  \n",
    "**HINT: draw a big Venn Diagram by your side**  \n",
    "* $P(\\overline{A}) = 0.7$\n",
    "* $P(A \\cup B) = 0.6$\n",
    "* $P(A \\cap \\overline{B}) = 0.2$\n",
    "* $P(A \\cup \\overline{A}) = 1$  \n",
    "* $P(A \\cap (B \\cup \\overline{B})) = 0.4$\n",
    "* $P(\\overline{A} \\cap \\overline{B}) = 0.3$\n",
    "* $P(\\overline{A \\cap B}) = 0.9$"
   ]
  },
  {
   "cell_type": "markdown",
   "metadata": {},
   "source": [
    "### Results\n",
    "* $P(\\overline{A}) = 0.7$ -> True\n",
    "* $P(A \\cup B) = 0.6$  -> False, is 0.8\n",
    "* $P(A \\cap \\overline{B}) = 0.2$ -> True\n",
    "* $P(A \\cup \\overline{A}) = 1$  -> True\n",
    "* $P(A \\cap (B \\cup \\overline{B})) = 0.4$ -> False. I'd say $(B \\cup \\overline{B})$ is 1, so it's equal to P(A), and P(A) is 0.3\n",
    "* $P(\\overline{A} \\cap \\overline{B}) = 0.3$ -> False, is 0.2\n",
    "* $P(\\overline{A \\cap B}) = 0.9$ -> True"
   ]
  },
  {
   "cell_type": "markdown",
   "metadata": {},
   "source": [
    "## Challenge 2\n",
    "There is a box with 10 white balls, 12 red balls and 8 black balls. Calculate the probability of:\n",
    "* Taking a white ball out.\n",
    "* Taking a white ball on first extraction and a black ball out on second extraction without replacing the first one.\n",
    "* Taking a white ball on first extraction and a black ball out on second extraction replacing the first one.\n",
    "* Taking 3 balls and them being all different colours."
   ]
  },
  {
   "cell_type": "markdown",
   "metadata": {},
   "source": [
    "### Results"
   ]
  },
  {
   "cell_type": "markdown",
   "metadata": {},
   "source": [
    "There are 10 white balls and 30 balls:"
   ]
  },
  {
   "cell_type": "code",
   "execution_count": 2,
   "metadata": {},
   "outputs": [
    {
     "data": {
      "text/plain": [
       "0.3333333333333333"
      ]
     },
     "execution_count": 2,
     "metadata": {},
     "output_type": "execute_result"
    }
   ],
   "source": [
    "p_white = 10/(10+12+8)\n",
    "p_white"
   ]
  },
  {
   "cell_type": "markdown",
   "metadata": {},
   "source": [
    "Taking first a white ball has a probability of 1/3, and then, there are 29 balls remaining, where 8 are black:"
   ]
  },
  {
   "cell_type": "code",
   "execution_count": 6,
   "metadata": {},
   "outputs": [
    {
     "data": {
      "text/plain": [
       "0.09195402298850575"
      ]
     },
     "execution_count": 6,
     "metadata": {},
     "output_type": "execute_result"
    }
   ],
   "source": [
    "p_w_b_no_rep = (10/30)*(8/29)\n",
    "p_w_b_no_rep"
   ]
  },
  {
   "cell_type": "markdown",
   "metadata": {},
   "source": [
    "If we add again the white ball, there will be 30 balls each time you take a ball:"
   ]
  },
  {
   "cell_type": "code",
   "execution_count": 7,
   "metadata": {},
   "outputs": [
    {
     "data": {
      "text/plain": [
       "0.08888888888888888"
      ]
     },
     "execution_count": 7,
     "metadata": {},
     "output_type": "execute_result"
    }
   ],
   "source": [
    "p_w_b_rep = (10/30)*(8/30)\n",
    "p_w_b_rep"
   ]
  },
  {
   "cell_type": "markdown",
   "metadata": {},
   "source": [
    "There are 6 possible combinations (WRB, WBR, RWB, RBW, BWR, BRW). It really doesn't matter the order, but with the first ball you'll have 30 options, then 29 and with the last one 28, so denominator will always be (30*29*28). As we want one ball of each colour, there will always be the original number of balls for each one, so the numerator always has to be (10*12*8), as it is a product, the order doesn't matter:"
   ]
  },
  {
   "cell_type": "code",
   "execution_count": 10,
   "metadata": {},
   "outputs": [
    {
     "data": {
      "text/plain": [
       "0.23645320197044334"
      ]
     },
     "execution_count": 10,
     "metadata": {},
     "output_type": "execute_result"
    }
   ],
   "source": [
    "#If there is not replacement:\n",
    "one_each = 6*(10*12*8)/(30*29*28)\n",
    "one_each"
   ]
  },
  {
   "cell_type": "markdown",
   "metadata": {},
   "source": [
    "## Challenge 3\n",
    "\n",
    "You are planning to go on a picnic today but the morning is cloudy. You hate rain so you don't know whether to go out or stay home! To help you make a decision, you gather the following data about rainy days:\n",
    "\n",
    "* 50% of all rainy days start off cloudy!\n",
    "* Cloudy mornings are common. About 40% of days start cloudy. \n",
    "* This month is usually dry so only 3 of 30 days (10%) tend to be rainy. \n",
    "\n",
    "What is the chance of rain during the day?"
   ]
  },
  {
   "cell_type": "markdown",
   "metadata": {},
   "source": [
    "### Results\n",
    "Aplying Bayes' Theorem:\n",
    "$$P(Rain|Cloudy)={\\frac {P(Cloudy|Rain)P(Rain)}{P(Cloudy)}}$$\n",
    "where\n",
    "- $P(Cloudy|Rain) = 0.5 $\n",
    "- $P(Rain) = 0.1 $\n",
    "- $P(Cloudy) = 0.4 $"
   ]
  },
  {
   "cell_type": "code",
   "execution_count": 19,
   "metadata": {},
   "outputs": [
    {
     "name": "stdout",
     "output_type": "stream",
     "text": [
      "The probability of rain today is 0.125\n"
     ]
    }
   ],
   "source": [
    "P_rc = 0.5*0.1/0.4\n",
    "print(f\"The probability of rain today is {P_rc}\")"
   ]
  },
  {
   "cell_type": "markdown",
   "metadata": {},
   "source": [
    "## Challenge 4\n",
    "\n",
    " * If someone flies to China, the probability of getting Covid is 1%  \n",
    " * If someone flies to Italy, the probability of getting Covid is 20%  \n",
    "\n",
    "I roll 1 dice with numbers 1, 2, 3, 4, 5, 6:  \n",
    " * If 1: I fly to Italy\n",
    " * If not 1: I fly to China\n",
    "\n",
    "During my trip, I got Covid. What is the probability that I flew to China?"
   ]
  },
  {
   "cell_type": "markdown",
   "metadata": {},
   "source": [
    "### Results\n",
    "First we calculate the chance of geting Covid. We can get Covid by going to China and geting Covid, and by going to Italy and geting Covid:\n",
    "- $P(It) = 1/6 $\n",
    "- $P(Ch) = 5/6 $\n",
    "- $P(Covid|Ch) = 0.01 $\n",
    "- $P(Covid|It) = 0.2 $"
   ]
  },
  {
   "cell_type": "markdown",
   "metadata": {},
   "source": [
    "The probability of geting Covid will be:\n",
    "$P(Covid) = P(It)*P(Covid|It) + P(Ch)*P(Covid|Ch)$"
   ]
  },
  {
   "cell_type": "code",
   "execution_count": 15,
   "metadata": {},
   "outputs": [
    {
     "data": {
      "text/plain": [
       "0.041666666666666664"
      ]
     },
     "execution_count": 15,
     "metadata": {},
     "output_type": "execute_result"
    }
   ],
   "source": [
    "# your code here\n",
    "P_covid = (5/6) * 0.01 + (1/6) *0.2\n",
    "P_covid"
   ]
  },
  {
   "cell_type": "markdown",
   "metadata": {},
   "source": [
    "Once you have Covid, the probability that you flew to China can be calculated with Bayes' Theorem again: \n",
    "$$P(China|Covid)={\\frac {P(Covid|China)P(China)}{P(Covid)}}$$\n"
   ]
  },
  {
   "cell_type": "code",
   "execution_count": 20,
   "metadata": {},
   "outputs": [
    {
     "name": "stdout",
     "output_type": "stream",
     "text": [
      "The probability that you went to China is 0.2\n"
     ]
    }
   ],
   "source": [
    "P_Ch_Cov = 0.01*(5/6)/P_covid\n",
    "print(f\"The probability that you went to China is {P_Ch_Cov}\")"
   ]
  },
  {
   "cell_type": "markdown",
   "metadata": {},
   "source": [
    "## BONUS\n",
    "\n",
    "You roll 2 dice. What is the probability that the sum of the numbers is 7? And 8? And 9? Then simulate 10000 times and draw a histogram."
   ]
  },
  {
   "cell_type": "markdown",
   "metadata": {},
   "source": [
    "your explanation here"
   ]
  },
  {
   "cell_type": "markdown",
   "metadata": {},
   "source": [
    "If you roll 2 dice there are 6*6 = 36 possible combinations."
   ]
  },
  {
   "cell_type": "markdown",
   "metadata": {},
   "source": [
    "You have the following combinations to get:\n",
    "- Sum = 7 : [(6, 1), (5, 2), (4, 3), (3, 4), (2, 5), (1, 6)]\n",
    "- Sum = 8 : [(6, 2), (5, 3), (4, 4), (3, 5), (2, 6)]\n",
    "- Sum = 9 : [(6, 3), (5, 4), (4, 5), (3, 6)]"
   ]
  },
  {
   "cell_type": "markdown",
   "metadata": {},
   "source": [
    "Probability of an event happening is the quotient between favorable events and possible events:"
   ]
  },
  {
   "cell_type": "code",
   "execution_count": 29,
   "metadata": {},
   "outputs": [
    {
     "name": "stdout",
     "output_type": "stream",
     "text": [
      "The probability of getting 7 is 0.167\n",
      "The probability of getting 7 is 0.139\n",
      "The probability of getting 7 is 0.111\n"
     ]
    }
   ],
   "source": [
    "P_7 = (6/36)\n",
    "print(f\"The probability of getting 7 is {round(P_7, 3)}\")\n",
    "P_8 = (5/36)\n",
    "print(f\"The probability of getting 7 is {round(P_8, 3)}\")\n",
    "P_9 = (4/36)\n",
    "print(f\"The probability of getting 7 is {round(P_9, 3)}\")"
   ]
  },
  {
   "cell_type": "code",
   "execution_count": 58,
   "metadata": {},
   "outputs": [],
   "source": [
    "import random\n",
    "import matplotlib.pyplot as plt"
   ]
  },
  {
   "cell_type": "markdown",
   "metadata": {},
   "source": [
    "I'm making a function where you can change the number of dice rolls, in case we want to check what happens if the number is smaller than 10000:"
   ]
  },
  {
   "cell_type": "code",
   "execution_count": 76,
   "metadata": {},
   "outputs": [],
   "source": [
    "def playing_dice(n):   \n",
    "    sample_space = [1, 2, 3, 4, 5, 6]\n",
    "    roll_d1 = random.choices(sample_space, k=n)\n",
    "    roll_d2 = random.choices(sample_space, k=n)\n",
    "    list_results = []\n",
    "    for i in range(len(roll_d1)):\n",
    "        result = roll_d1[i] + roll_d2[i]\n",
    "        list_results.append(result)\n",
    "    return list_results"
   ]
  },
  {
   "cell_type": "code",
   "execution_count": 77,
   "metadata": {},
   "outputs": [],
   "source": [
    "results = playing_dice(10000)"
   ]
  },
  {
   "cell_type": "code",
   "execution_count": 78,
   "metadata": {},
   "outputs": [
    {
     "data": {
      "image/png": "[encoded data removed]",
      "text/plain": [
       "<Figure size 432x288 with 1 Axes>"
      ]
     },
     "metadata": {
      "needs_background": "light"
     },
     "output_type": "display_data"
    }
   ],
   "source": [
    "plt.hist(results, density=True, bins=11)\n",
    "plt.ylabel('Probability')\n",
    "plt.xlabel('Data');"
   ]
  }
 ],
 "metadata": {
  "kernelspec": {
   "display_name": "Python 3",
   "language": "python",
   "name": "python3"
  },
  "language_info": {
   "codemirror_mode": {
    "name": "ipython",
    "version": 3
   },
   "file_extension": ".py",
   "mimetype": "text/x-python",
   "name": "python",
   "nbconvert_exporter": "python",
   "pygments_lexer": "ipython3",
   "version": "3.8.5"
  },
  "toc": {
   "base_numbering": 1,
   "nav_menu": {},
   "number_sections": false,
   "sideBar": true,
   "skip_h1_title": false,
   "title_cell": "Table of Contents",
   "title_sidebar": "Contents",
   "toc_cell": false,
   "toc_position": {
    "height": "calc(100% - 180px)",
    "left": "10px",
    "top": "150px",
    "width": "296.475px"
   },
   "toc_section_display": true,
   "toc_window_display": false
  },
  "varInspector": {
   "cols": {
    "lenName": 16,
    "lenType": 16,
    "lenVar": 40
   },
   "kernels_config": {
    "python": {
     "delete_cmd_postfix": "",
     "delete_cmd_prefix": "del ",
     "library": "var_list.py",
     "varRefreshCmd": "print(var_dic_list())"
    },
    "r": {
     "delete_cmd_postfix": ") ",
     "delete_cmd_prefix": "rm(",
     "library": "var_list.r",
     "varRefreshCmd": "cat(var_dic_list()) "
    }
   },
   "types_to_exclude": [
    "module",
    "function",
    "builtin_function_or_method",
    "instance",
    "_Feature"
   ],
   "window_display": false
  }
 },
 "nbformat": 4,
 "nbformat_minor": 2
}
