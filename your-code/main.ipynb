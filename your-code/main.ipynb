{
 "cells": [
  {
   "cell_type": "markdown",
   "metadata": {},
   "source": [
    "# Probability\n",
    "## Challenge 1\n",
    "\n",
    "A and B are events of a probability such that $P(A) = 0.3$, $P(B) = 0.6$ and $P(A \\cap B) = 0.1$\n",
    "\n",
    "Which of the following statements are true?  \n",
    "**HINT: draw a big Venn Diagram by your side**  \n",
    "* $P(\\overline{A}) = 0.7$\n",
    "* $P(A \\cup B) = 0.6$\n",
    "* $P(A \\cap \\overline{B}) = 0.2$\n",
    "* $P(A \\cup \\overline{A}) = 1$  \n",
    "* $P(A \\cap (B \\cup \\overline{B})) = 0.4$\n",
    "* $P(\\overline{A} \\cap \\overline{B}) = 0.3$\n",
    "* $P(\\overline{A \\cap B}) = 0.9$"
   ]
  },
  {
   "cell_type": "markdown",
   "metadata": {},
   "source": [
    "- First statement is true, if P(A) = 0.3 the P of not (A) = 1 – 0.3 = 0.7\n",
    "\n",
    "- Second statement is false, the union of probabilities of A and B is the addition of the probabilities of A and B (0.9) minus the probability of their intersection (0.1), so the answer is 0.8 \n",
    "\n",
    "- Third statement is true. If P(A) = 0.3 and P(AnB) = 0.1, then the probability of A intersected with all that is not B is 0.3 – 0.1 = 0.2\n",
    "\n",
    "- Fourth statement is true. The probability of A and not A is 1\n",
    "\n",
    "- Fifth statement is false. The union of B and not B is 1 and the intersection with P(A) is the same as P(A), which is 0.3\n",
    "\n",
    "- Sixth statement is false. This statement is the opposite of the second statement, so the answer is 0.2 \n",
    "\n",
    "- Seventh statement is true. If A intersection B is 0.1, the opposite is 0.9"
   ]
  },
  {
   "cell_type": "markdown",
   "metadata": {},
   "source": [
    "## Challenge 2\n",
    "There is a box with 10 white balls, 12 red balls and 8 black balls. Calculate the probability of:\n",
    "* Taking a white ball out.\n",
    "* Taking a white ball on first extraction and a black ball out on second extraction without replacing the first one.\n",
    "* Taking a white ball on first extraction and a black ball out on second extraction replacing the first one.\n",
    "* Taking 3 balls and them being all different colours."
   ]
  },
  {
   "cell_type": "markdown",
   "metadata": {},
   "source": [
    "1. $P(W)$ = 10 / (10 + 12 + 8) = 10 / 30 = 1 / 3"
   ]
  },
  {
   "cell_type": "markdown",
   "metadata": {},
   "source": [
    "2. $P(W \\cap B) = P(W) * P(B | W)$ = (1 / 3) * (8 / (9 + 12 + 8) ) = 1 / 3 * 8 / 29 = 0.092"
   ]
  },
  {
   "cell_type": "markdown",
   "metadata": {},
   "source": [
    "3. $P(W \\cap B) = P(W) * P(B)$ = (1 / 3) * (8 / 30) = 8 / 90 = 0.089"
   ]
  },
  {
   "cell_type": "markdown",
   "metadata": {},
   "source": [
    "4. Using a probability tree, we can see there are six ways of getting different colored balls, all with the same probability. If we calculate the probability of one way, we can multiply it by 6 to get the total probability. Assuming no replacement, $P(W \\cap R \\cap B)$ = [(1 / 3) * ( 12 / 29) * (2 / 7)] * 6 = 0.039 * 6 = 0.236"
   ]
  },
  {
   "cell_type": "markdown",
   "metadata": {},
   "source": [
    "## Challenge 3\n",
    "\n",
    "You are planning to go on a picnic today but the morning is cloudy. You hate rain so you don't know whether to go out or stay home! To help you make a decision, you gather the following data about rainy days:\n",
    "\n",
    "* 50% of all rainy days start off cloudy!\n",
    "* Cloudy mornings are common. About 40% of days start cloudy. \n",
    "* This month is usually dry so only 3 of 30 days (10%) tend to be rainy. \n",
    "\n",
    "What is the chance of rain during the day?"
   ]
  },
  {
   "cell_type": "markdown",
   "metadata": {},
   "source": [
    "Given the information above and Bayes theorem, we can calculate the probability of rain given the day starts off being cloudy."
   ]
  },
  {
   "cell_type": "markdown",
   "metadata": {},
   "source": [
    "- The probability of clouds, given it rains is 0.5\n",
    "- The probability of rain is 0.1\n",
    "- The probability or clouds is 0.4"
   ]
  },
  {
   "cell_type": "markdown",
   "metadata": {},
   "source": [
    "$P(R|C)$ = (0.5 * 0.1) / 0.4 = 0.125"
   ]
  },
  {
   "cell_type": "markdown",
   "metadata": {},
   "source": [
    "## Challenge 4\n",
    "\n",
    " * If someone flies to China, the probability of getting Covid is 1%  \n",
    " * If someone flies to Italy, the probability of getting Covid is 20%  \n",
    "\n",
    "I roll 1 dice with numbers 1, 2, 3, 4, 5, 6:  \n",
    " * If 1: I fly to Italy\n",
    " * If not 1: I fly to China\n",
    "\n",
    "During my trip, I got Covid. What is the probability that I flew to China?"
   ]
  },
  {
   "cell_type": "code",
   "execution_count": 1,
   "metadata": {},
   "outputs": [],
   "source": [
    "# your code here"
   ]
  },
  {
   "cell_type": "markdown",
   "metadata": {},
   "source": [
    "$P(It \\cap Cor)$ = (1/6) * 0.2 = 0.033"
   ]
  },
  {
   "cell_type": "markdown",
   "metadata": {},
   "source": [
    "$P(It \\cap NotCor)$ = (1/6) * 0.8 = 0.133"
   ]
  },
  {
   "cell_type": "markdown",
   "metadata": {},
   "source": [
    "$P(Ch \\cap Cor)$ = (5/6) * 0.01 = 0.008"
   ]
  },
  {
   "cell_type": "markdown",
   "metadata": {},
   "source": [
    "$P(Ch \\cap NotCor)$ = (5/6) * 0.99 = 0.825"
   ]
  },
  {
   "cell_type": "markdown",
   "metadata": {},
   "source": [
    "$P(Cor|Ch)$ = 0.008 / (0.033 + 0.008) = 0.2"
   ]
  },
  {
   "cell_type": "markdown",
   "metadata": {},
   "source": [
    "## BONUS\n",
    "\n",
    "You roll 2 dice. What is the probability that the sum of the numbers is 7? And 8? And 9? Then simulate 10000 times and draw a histogram."
   ]
  },
  {
   "cell_type": "markdown",
   "metadata": {},
   "source": [
    "your explanation here"
   ]
  },
  {
   "cell_type": "markdown",
   "metadata": {},
   "source": [
    "The sample space $\\Omega$ in this case is 36. For each of the first 6 alternatives in the first roll, there are 6 alternatives in the second roll"
   ]
  },
  {
   "cell_type": "markdown",
   "metadata": {},
   "source": [
    "The alternatives for rolling a total of 7 are 6 [(1,6), (2,5), (3,4), (4,3), (5,2), (1,6)]. This means that the probability that the sum of the numbers is 7 equals 6 / 36 = 0.167"
   ]
  },
  {
   "cell_type": "markdown",
   "metadata": {},
   "source": [
    "The alternatives for rolling a total of 8 are 5 [(2,6), (3,5), (4,4), (5,3), (6,2)]. This means that the probability that the sum of the numbers is 8 equals 5 / 36 = 0.139"
   ]
  },
  {
   "cell_type": "markdown",
   "metadata": {},
   "source": [
    "The alternatives for rolling a total of 9 are 4 [(3,6), (4,5), (5,4), (6,3)]. This means that the probability that the sum of the numbers is 9 equals 4 / 36 = 0.111"
   ]
  },
  {
   "cell_type": "code",
   "execution_count": 2,
   "metadata": {},
   "outputs": [],
   "source": [
    "# your code here\n",
    "\n",
    "import random\n",
    "import matplotlib.pyplot as plt\n",
    "\n",
    "def simulate_two_dice_rolls(n_simulations=10_000):\n",
    "    '''\n",
    "    Simulates n times the rolling two dice, calculates the sum of the two rolls and plots a histogram\n",
    "    with the results\n",
    "    \n",
    "    Takes: number of simulations\n",
    "    Returns: histogram with rolling outcomes\n",
    "    '''\n",
    "    sample_space = (1, 2, 3, 4, 5, 6)\n",
    "    results = []\n",
    "    \n",
    "    for n in range(1, n_simulations):\n",
    "        roll_sim = random.choices(sample_space, k=2)\n",
    "        total_sum = sum(roll_sim)\n",
    "        results.append(total_sum)\n",
    "    plt.hist(x=results, edgecolor=\"black\", bins=[2,3,4,5,6,7,8,9,10,11,12,13])"
   ]
  },
  {
   "cell_type": "code",
   "execution_count": 3,
   "metadata": {},
   "outputs": [
    {
     "data": {
      "image/png": "[encoded data removed]",
      "text/plain": [
       "<Figure size 432x288 with 1 Axes>"
      ]
     },
     "metadata": {
      "needs_background": "light"
     },
     "output_type": "display_data"
    }
   ],
   "source": [
    "simulate_two_dice_rolls()"
   ]
  },
  {
   "cell_type": "code",
   "execution_count": null,
   "metadata": {},
   "outputs": [],
   "source": []
  }
 ],
 "metadata": {
  "kernelspec": {
   "display_name": "Python 3",
   "language": "python",
   "name": "python3"
  },
  "language_info": {
   "codemirror_mode": {
    "name": "ipython",
    "version": 3
   },
   "file_extension": ".py",
   "mimetype": "text/x-python",
   "name": "python",
   "nbconvert_exporter": "python",
   "pygments_lexer": "ipython3",
   "version": "3.8.5"
  },
  "toc": {
   "base_numbering": 1,
   "nav_menu": {},
   "number_sections": false,
   "sideBar": true,
   "skip_h1_title": false,
   "title_cell": "Table of Contents",
   "title_sidebar": "Contents",
   "toc_cell": false,
   "toc_position": {
    "height": "calc(100% - 180px)",
    "left": "10px",
    "top": "150px",
    "width": "296.475px"
   },
   "toc_section_display": true,
   "toc_window_display": false
  },
  "varInspector": {
   "cols": {
    "lenName": 16,
    "lenType": 16,
    "lenVar": 40
   },
   "kernels_config": {
    "python": {
     "delete_cmd_postfix": "",
     "delete_cmd_prefix": "del ",
     "library": "var_list.py",
     "varRefreshCmd": "print(var_dic_list())"
    },
    "r": {
     "delete_cmd_postfix": ") ",
     "delete_cmd_prefix": "rm(",
     "library": "var_list.r",
     "varRefreshCmd": "cat(var_dic_list()) "
    }
   },
   "types_to_exclude": [
    "module",
    "function",
    "builtin_function_or_method",
    "instance",
    "_Feature"
   ],
   "window_display": false
  }
 },
 "nbformat": 4,
 "nbformat_minor": 2
}
